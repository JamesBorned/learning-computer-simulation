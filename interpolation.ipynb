{
  "nbformat": 4,
  "nbformat_minor": 0,
  "metadata": {
    "colab": {
      "provenance": [],
      "authorship_tag": "ABX9TyOcPfilgNWhAUSTS2ZlHglU"
    },
    "kernelspec": {
      "name": "python3",
      "display_name": "Python 3"
    },
    "language_info": {
      "name": "python"
    }
  },
  "cells": [
    {
      "cell_type": "markdown",
      "source": [
        "#Интерполяция"
      ],
      "metadata": {
        "id": "OyeLtpaB61iT"
      }
    },
    {
      "cell_type": "markdown",
      "source": [
        "Задача:\n",
        "1. Восстановить пропуски в данных с метеостанции с помощью линейной и квадратичной интерполяции.\n",
        "2. Реализовать алгоритмы линейной и квадратичной интерполяции."
      ],
      "metadata": {
        "id": "pDwpWG998UXa"
      }
    },
    {
      "cell_type": "code",
      "source": [
        "import pandas as pd\n",
        "import numpy as np"
      ],
      "metadata": {
        "id": "anUEQXD49jFA"
      },
      "execution_count": 2,
      "outputs": []
    },
    {
      "cell_type": "code",
      "source": [
        "def linear_interpolation(data, row, col):\n",
        "\n",
        "    left_col = col - 1\n",
        "    right_col = col + 1\n",
        "\n",
        "    while left_col >= 0 and pd.isnull(data.iloc[row, left_col]):\n",
        "        left_col -= 1\n",
        "    while right_col < data.shape[1] and pd.isnull(data.iloc[row, right_col]):\n",
        "        right_col += 1\n",
        "    if left_col == -1:\n",
        "        left_col += 1\n",
        "        while left_col < data.shape[1] and pd.isnull(data.iloc[row, left_col]):\n",
        "            left_col += 1\n",
        "            right_col = left_col + 1\n",
        "            if not pd.isnull(data.iloc[row, left_col]) and not pd.isnull(data.iloc[row, right_col]):\n",
        "                break\n",
        "    if right_col == data.shape[1]:\n",
        "        right_col -= 1\n",
        "        while right_col > 0 and pd.isnull(data.iloc[row, right_col]):\n",
        "            right_col -= 1\n",
        "            left_col = right_col - 1\n",
        "            if not pd.isnull(data.iloc[row, left_col]) and not pd.isnull(data.iloc[row, right_col]):\n",
        "                break\n",
        "\n",
        "    if left_col >= 0 and right_col < data.shape[1]:\n",
        "        value = data.iloc[row, left_col] + (float(data.iloc[row, right_col]) - float(data.iloc[row, left_col])) * (col - left_col) / (right_col - left_col)\n",
        "        return round(value, 2)"
      ],
      "metadata": {
        "id": "BpBZJhwC9nCh"
      },
      "execution_count": 3,
      "outputs": []
    },
    {
      "cell_type": "code",
      "source": [
        "def quadratic_interpolation(data, row, col):\n",
        "\n",
        "    left_left_col = col - 2\n",
        "    left_col = col - 1\n",
        "    right_col = col + 1\n",
        "    while left_left_col > 1 and np.isnan(data.iloc[row, left_left_col]):\n",
        "        left_left_col = left_col - 1\n",
        "    while left_col > 0 and np.isnan(data.iloc[row, left_col]):\n",
        "        left_col -= 1\n",
        "    while right_col < data.shape[1] and np.isnan(data.iloc[row, right_col]):\n",
        "        right_col += 1\n",
        "    if left_left_col == -2:\n",
        "        left_left_col += 2\n",
        "        left_col = left_left_col + 1\n",
        "        right_col = left_col + 1\n",
        "        while left_left_col < data.shape[1] -2 and pd.isnull(data.iloc[row, left_left_col]):\n",
        "            left_left_col += 1\n",
        "            left_col = left_left_col + 1\n",
        "            right_col = left_col + 1\n",
        "        while left_col < data.shape[1] -1 and pd.isnull(data.iloc[row, left_col]):\n",
        "            left_col = left_left_col + 1\n",
        "            right_col = left_col + 1\n",
        "        while right_col < data.shape[1] and pd.isnull(data.iloc[row, right_col]):\n",
        "            right_col = left_col + 1\n",
        "    if left_left_col == -1:\n",
        "        left_left_col += 1\n",
        "        left_col = left_left_col + 1\n",
        "        right_col = left_col + 1\n",
        "        while left_left_col < data.shape[1] -2 and pd.isnull(data.iloc[row, left_left_col]):\n",
        "            left_left_col += 1\n",
        "            left_col = left_left_col + 1\n",
        "            right_col = left_col + 1\n",
        "        while left_col < data.shape[1] -1 and pd.isnull(data.iloc[row, left_col]):\n",
        "            left_col += 1\n",
        "            right_col = left_col + 1\n",
        "        while right_col < data.shape[1] and pd.isnull(data.iloc[row, right_col]):\n",
        "            right_col = left_col + 1\n",
        "    if right_col == data.shape[1]:\n",
        "        right_col -= 1\n",
        "        left_col = right_col - 1\n",
        "        left_left_col = left_col - 1\n",
        "        while right_col > 2 and pd.isnull(data.iloc[row, right_col]):\n",
        "            right_col -= 1\n",
        "            left_col = right_col - 1\n",
        "            left_left_col = left_col - 1\n",
        "        while left_col > 1 and pd.isnull(data.iloc[row, left_col]):\n",
        "            left_col = right_col - 1\n",
        "            left_left_col = left_col - 1\n",
        "        while left_left_col > 0 and pd.isnull(data.iloc[row, left_left_col]):\n",
        "            left_left_col = left_col - 1\n",
        "\n",
        "    if left_left_col >= 0 and right_col < data.shape[1]:\n",
        "        x = col\n",
        "        x1 = left_left_col\n",
        "        x2 = left_col\n",
        "        x3 = right_col\n",
        "        y1 = data.iloc[row, left_left_col]\n",
        "        y2 = data.iloc[row, left_col]\n",
        "        y3 = data.iloc[row, right_col]\n",
        "\n",
        "        out = y1*((x-x2)*(x-x3))/((x1-x2)*(x1-x3)) + y2*((x-x1)*(x-x3))/((x2-x1)*(x2-x3)) + y3*((x-x1)*(x-x2))/((x3-x1)*(x3-x2))\n",
        "\n",
        "        return round(out, 2)"
      ],
      "metadata": {
        "id": "xVELFD6y9t3k"
      },
      "execution_count": 4,
      "outputs": []
    },
    {
      "cell_type": "code",
      "source": [
        "################### Температура ######################\n",
        "\n",
        "data = pd.read_csv('temp.csv', header=2, usecols=list(range(0, 25)), index_col=0, decimal=\",\")\n",
        "data1 = data.apply(pd.to_numeric, errors='coerce')\n",
        "\n",
        "for row in range(data1.shape[0]):\n",
        "    for col in range(data1.shape[1]):\n",
        "        if pd.isnull(data1.iloc[row, col]):\n",
        "            data1.iloc[row, col] = linear_interpolation(data1, row, col)\n",
        "data1.to_csv('linear_interpolate_temperature_data.csv')\n",
        "print(\"Файл с линейной интерполяцией температуры - linear_interpolate_temperature_data.csv\")\n",
        "\n",
        "data2 = data.apply(pd.to_numeric, errors='coerce')\n",
        "for row in range(data2.shape[0]):\n",
        "    for col in range(data2.shape[1]):\n",
        "        if pd.isnull(data2.iloc[row, col]):\n",
        "            data2.iloc[row, col] = quadratic_interpolation(data2, row, col)\n",
        "data2.to_csv('quad_interpolate_temperature_data.csv')\n",
        "print(\"Файл с квадратичной интерполяцией температуры - quad_interpolate_temperature_data.csv\")"
      ],
      "metadata": {
        "id": "oL0VfQCy-bxH"
      },
      "execution_count": null,
      "outputs": []
    },
    {
      "cell_type": "code",
      "source": [
        "################## Точка росы ###################\n",
        "\n",
        "data = pd.read_csv('dew_point.csv', header=2, usecols=list(range(0, 25)), index_col=0, decimal=\",\")\n",
        "data1 = data.apply(pd.to_numeric, errors='coerce')\n",
        "data1 = data1.iloc[0:31]\n",
        "for row in range(data1.shape[0]):\n",
        "    for col in range(data1.shape[1]):\n",
        "        if pd.isnull(data1.iloc[row, col]):\n",
        "            data1.iloc[row, col] = linear_interpolation(data1, row, col)\n",
        "data1.to_csv('linear_interpolate_dew_point_data.csv')\n",
        "print(\"Файл с линейной интерполяцией точки росы - linear_interpolate_dew_point_data.csv\")\n",
        "\n",
        "data2 = data.apply(pd.to_numeric, errors='coerce')\n",
        "data2 = data2.iloc[0:31]\n",
        "for row in range(data2.shape[0]):\n",
        "    for col in range(data2.shape[1]):\n",
        "        if pd.isnull(data2.iloc[row, col]):\n",
        "            data2.iloc[row, col] = quadratic_interpolation(data2, row, col)\n",
        "data2.to_csv('quad_interpolate_dew_point_data.csv')\n",
        "print(\"Файл с квадратичной интерполяцией точки росы - quad_interpolate_dew_point_data.csv\")"
      ],
      "metadata": {
        "id": "gDhBt_72-g7h"
      },
      "execution_count": null,
      "outputs": []
    },
    {
      "cell_type": "code",
      "source": [
        "################## Атмосферное давление ###################\n",
        "\n",
        "data = pd.read_csv('atm_pressure.csv', header=1, usecols=list(range(0, 25)), index_col=0, decimal=\",\")\n",
        "data1 = data.apply(pd.to_numeric, errors='coerce')\n",
        "data1 = data1.iloc[0:31]\n",
        "for row in range(data1.shape[0]):\n",
        "    for col in range(data1.shape[1]):\n",
        "        if pd.isnull(data1.iloc[row, col]):\n",
        "            data1.iloc[row, col] = linear_interpolation(data1, row, col)\n",
        "data1.to_csv('linear_interpolate_atm_pressure_data.csv')\n",
        "print(\"Файл с линейной интерполяцией атмосферного давления - linear_interpolate_atm_pressure_data.csv\")\n",
        "\n",
        "data2 = data.apply(pd.to_numeric, errors='coerce')\n",
        "data2 = data2.iloc[0:31]\n",
        "for row in range(data2.shape[0]):\n",
        "    for col in range(data2.shape[1]):\n",
        "        if pd.isnull(data2.iloc[row, col]):\n",
        "            data2.iloc[row, col] = quadratic_interpolation(data2, row, col)\n",
        "data2.to_csv('quad_interpolate_atm_pressure_data.csv')\n",
        "print(\"Файл с квадратичной интерполяцией атмосферного давления - quad_interpolate_atm_pressure_data.csv\")"
      ],
      "metadata": {
        "id": "q9gYdbWU-mnB"
      },
      "execution_count": null,
      "outputs": []
    }
  ]
}