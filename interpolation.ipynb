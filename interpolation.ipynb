{
  "nbformat": 4,
  "nbformat_minor": 0,
  "metadata": {
    "colab": {
      "provenance": [],
      "authorship_tag": "ABX9TyPWXkWDJdhgods3c69cs4Un"
    },
    "kernelspec": {
      "name": "python3",
      "display_name": "Python 3"
    },
    "language_info": {
      "name": "python"
    }
  },
  "cells": [
    {
      "cell_type": "markdown",
      "source": [
        "#Интерполяция"
      ],
      "metadata": {
        "id": "OyeLtpaB61iT"
      }
    },
    {
      "cell_type": "markdown",
      "source": [
        "Задача:\n",
        "1. Восстановить пропуски в данных с метеостанции с помощью линейной и квадратичной интерполяции.\n",
        "2. Реализовать алгоритмы линейной и квадратичной интерполяции."
      ],
      "metadata": {
        "id": "pDwpWG998UXa"
      }
    },
    {
      "cell_type": "code",
      "source": [
        "import pandas as pd\n",
        "import numpy as np"
      ],
      "metadata": {
        "id": "anUEQXD49jFA"
      },
      "execution_count": 32,
      "outputs": []
    },
    {
      "cell_type": "markdown",
      "source": [
        "###Линейная интерполяция"
      ],
      "metadata": {
        "id": "E4mxbiSJH7oJ"
      }
    },
    {
      "cell_type": "code",
      "source": [
        "def is_null(data, row, col):\n",
        "  return pd.isnull(data.iloc[row, col])"
      ],
      "metadata": {
        "id": "G5aVkgu9nNdn"
      },
      "execution_count": 33,
      "outputs": []
    },
    {
      "cell_type": "code",
      "source": [
        "def find_passes(data, row, col):\n",
        "  left_col = col - 1\n",
        "  right_col = col + 1\n",
        "\n",
        "  # сдвиг влево\n",
        "  while left_col >= 0 and is_null(data, row, left_col):\n",
        "      left_col -= 1\n",
        "\n",
        "  # сдвиг вправо\n",
        "  while right_col < data.shape[1] and is_null(data, row, right_col):\n",
        "      right_col += 1\n",
        "\n",
        "  return left_col, right_col"
      ],
      "metadata": {
        "id": "1rGMM5giK8bd"
      },
      "execution_count": 34,
      "outputs": []
    },
    {
      "cell_type": "code",
      "source": [
        "def first_cell_skipping_solution(data, row, left_col):\n",
        "  left_col += 1\n",
        "\n",
        "  while left_col < data.shape[1] and is_null(data, row, left_col):\n",
        "    # поиск последнего пропуска в окне (для возможности интерполяции)\n",
        "    left_col += 1\n",
        "    right_col = left_col + 1\n",
        "\n",
        "    if not is_null(data, row, left_col) and not is_null(data, row, right_col):\n",
        "      break\n",
        "\n",
        "  return left_col, right_col"
      ],
      "metadata": {
        "id": "mgNOjx_uhxef"
      },
      "execution_count": 35,
      "outputs": []
    },
    {
      "cell_type": "code",
      "source": [
        "def last_cell_skipping_solution(data, row, right_col):\n",
        "  right_col -= 1\n",
        "\n",
        "  while right_col > 0 and is_null(data, row, right_col):\n",
        "    # поиск первого пропуска в окне (для возможности интерполяции)\n",
        "    right_col -= 1\n",
        "    left_col = right_col - 1\n",
        "\n",
        "    if not is_null(data, row, left_col) and not is_null(data, row, right_col):\n",
        "      break\n",
        "\n",
        "  return left_col, right_col"
      ],
      "metadata": {
        "id": "3c0JIl8BlDz7"
      },
      "execution_count": 36,
      "outputs": []
    },
    {
      "cell_type": "code",
      "source": [
        "def linear_interpolation(data, row, col):\n",
        "\n",
        "    left_col, right_col = find_passes(data, row, col)\n",
        "\n",
        "    if left_col == -1:\n",
        "      left_col, right_col = first_cell_skipping_solution(data, row, left_col)\n",
        "\n",
        "    if right_col == data.shape[1]:\n",
        "      left_col, right_col = last_cell_skipping_solution(data, row, right_col)\n",
        "\n",
        "    if left_col >= 0 and right_col < data.shape[1]:\n",
        "      #print(left_col,' ', right_col, '\\n')\n",
        "      value = data.iloc[row, left_col] + (float(data.iloc[row, right_col]) - float(data.iloc[row, left_col])) * (col - left_col) / (right_col - left_col)\n",
        "\n",
        "    return round(value, 2)"
      ],
      "metadata": {
        "id": "BpBZJhwC9nCh"
      },
      "execution_count": 37,
      "outputs": []
    },
    {
      "cell_type": "markdown",
      "source": [
        "###Квадратичная интерполяция"
      ],
      "metadata": {
        "id": "N5kwTSauptH2"
      }
    },
    {
      "cell_type": "code",
      "source": [
        "def find_passes_squared(data, row, col):\n",
        "  left_left_col = col - 2\n",
        "  left_col = col - 1\n",
        "  right_col = col + 1\n",
        "\n",
        "  while left_left_col > 1 and is_null(data, row, left_left_col):\n",
        "    left_left_col = left_col - 1\n",
        "\n",
        "  while left_col > 0 and is_null(data, row, left_col):\n",
        "    left_col -= 1\n",
        "\n",
        "  while right_col < data.shape[1] and is_null(data, row, right_col):\n",
        "    right_col += 1\n",
        "\n",
        "  return left_left_col, left_col, right_col"
      ],
      "metadata": {
        "id": "gC77Eu1xIqd8"
      },
      "execution_count": 38,
      "outputs": []
    },
    {
      "cell_type": "code",
      "source": [
        "def first_cell_skipping_solution_squared(data, row, left_left_col):\n",
        "  left_left_col += 2\n",
        "  left_col = left_left_col + 1\n",
        "  right_col = left_col + 1\n",
        "\n",
        "  # поиск последнего пропуска в окне (для возможности интерполяции)\n",
        "  while left_left_col < data.shape[1] - 2 and is_null(data, row, left_left_col):\n",
        "    left_left_col += 1\n",
        "    left_col = left_left_col + 1\n",
        "    right_col = left_col + 1\n",
        "\n",
        "  while left_col < data.shape[1] - 1 and is_null(data, row, left_col):\n",
        "    left_col = left_left_col + 1\n",
        "    right_col = left_col + 1\n",
        "\n",
        "  while right_col < data.shape[1] and is_null(data, row, right_col):\n",
        "    right_col = left_col + 1\n",
        "\n",
        "  return left_left_col, left_col, right_col"
      ],
      "metadata": {
        "id": "qzwDQc7VM54F"
      },
      "execution_count": 39,
      "outputs": []
    },
    {
      "cell_type": "code",
      "source": [
        "def second_cell_skipping_solution_squared(data, row, left_left_col):\n",
        "  left_left_col += 1\n",
        "  left_col = left_left_col + 1\n",
        "  right_col = left_col + 1\n",
        "\n",
        "  # поиск последнего пропуска в окне (для возможности интерполяции)\n",
        "  while left_left_col < data.shape[1] - 2 and is_null(data, row, left_left_col):\n",
        "    left_left_col += 1\n",
        "    left_col = left_left_col + 1\n",
        "    right_col = left_col + 1\n",
        "\n",
        "  while left_col < data.shape[1] - 1 and is_null(data, row, left_col):\n",
        "    left_col += 1\n",
        "    right_col = left_col + 1\n",
        "\n",
        "  while right_col < data.shape[1] and is_null(data, row, right_col):\n",
        "    right_col = left_col + 1\n",
        "\n",
        "  return left_left_col, left_col, right_col"
      ],
      "metadata": {
        "id": "DxVilWtzPQ36"
      },
      "execution_count": 40,
      "outputs": []
    },
    {
      "cell_type": "code",
      "source": [
        "def last_cell_skipping_solution_squared(data, row, right_col):\n",
        "  right_col -= 1\n",
        "  left_col = right_col - 1\n",
        "  left_left_col = left_col - 1\n",
        "\n",
        "  while right_col > 2 and is_null(data, row, right_col):\n",
        "    right_col -= 1\n",
        "    left_col = right_col - 1\n",
        "    left_left_col = left_col - 1\n",
        "\n",
        "  while left_col > 1 and is_null(data, row, left_col):\n",
        "    left_col = right_col - 1\n",
        "    left_left_col = left_col - 1\n",
        "\n",
        "  while left_left_col > 0 and is_null(data, row, left_left_col):\n",
        "    left_left_col = left_col - 1\n",
        "\n",
        "  return left_left_col, left_col, right_col"
      ],
      "metadata": {
        "id": "gMKBPZhJQoDU"
      },
      "execution_count": 41,
      "outputs": []
    },
    {
      "cell_type": "code",
      "source": [
        "def quadratic_interpolation(data, row, col):\n",
        "\n",
        "    left_left_col, left_col, right_col = find_passes_squared(data, row, col)\n",
        "\n",
        "    if left_left_col == -2:\n",
        "        left_left_col, left_col, right_col = first_cell_skipping_solution_squared(data, row, left_left_col)\n",
        "\n",
        "    if left_left_col == -1:\n",
        "        left_left_col, left_col, right_col = second_cell_skipping_solution_squared(data, row, left_left_col)\n",
        "\n",
        "    if right_col == data.shape[1]:\n",
        "        left_left_col, left_col, right_col = last_cell_skipping_solution_squared(data, row, right_col)\n",
        "\n",
        "    if left_left_col >= 0 and right_col < data.shape[1]:\n",
        "        x = col\n",
        "        x1 = left_left_col\n",
        "        x2 = left_col\n",
        "        x3 = right_col\n",
        "        y1 = data.iloc[row, left_left_col]\n",
        "        y2 = data.iloc[row, left_col]\n",
        "        y3 = data.iloc[row, right_col]\n",
        "\n",
        "        out = y1*((x-x2)*(x-x3))/((x1-x2)*(x1-x3)) + y2*((x-x1)*(x-x3))/((x2-x1)*(x2-x3)) + y3*((x-x1)*(x-x2))/((x3-x1)*(x3-x2))\n",
        "\n",
        "        return round(out, 2)"
      ],
      "metadata": {
        "id": "xVELFD6y9t3k"
      },
      "execution_count": 42,
      "outputs": []
    },
    {
      "cell_type": "markdown",
      "source": [
        "###Заполнение пропусков"
      ],
      "metadata": {
        "id": "Ye5175dcSDya"
      }
    },
    {
      "cell_type": "code",
      "source": [
        "def apply_linear_interpolation(data):\n",
        "  for row in range(data.shape[0]):\n",
        "    for col in range(data.shape[1]):\n",
        "        if is_null(data, row, col):\n",
        "            data.iloc[row, col] = linear_interpolation(data, row, col)\n",
        "\n",
        "  return data"
      ],
      "metadata": {
        "id": "2lOTYskdSQji"
      },
      "execution_count": 46,
      "outputs": []
    },
    {
      "cell_type": "code",
      "source": [
        "def apply_quadratic_interpolation(data):\n",
        "  for row in range(data.shape[0]):\n",
        "    for col in range(data.shape[1]):\n",
        "        if is_null(data, row, col):\n",
        "            data.iloc[row, col] = quadratic_interpolation(data, row, col)\n",
        "\n",
        "  return data"
      ],
      "metadata": {
        "id": "COtR9mTcStNq"
      },
      "execution_count": 47,
      "outputs": []
    },
    {
      "cell_type": "code",
      "source": [
        "temperature_data = pd.read_csv('temperature.csv', header=2, usecols=list(range(0, 24)), index_col=0, decimal=\",\")\n",
        "temperature_data_full = temperature_data.apply(pd.to_numeric, errors='coerce')\n",
        "\n",
        "temperature_data_full_linear_interpolation = apply_linear_interpolation(temperature_data_full)\n",
        "temperature_data_full_linear_interpolation.to_csv('temperature_data_full_linear_interpolation.csv')\n",
        "print(\"Файл с линейной интерполяцией температуры - temperature_data_full_linear_interpolation.csv\")\n",
        "\n",
        "temperature_data_full_quadratic_interpolation = apply_quadratic_interpolation(temperature_data_full)\n",
        "temperature_data_full_quadratic_interpolation.to_csv('temperature_data_full_quadratic_interpolation.csv')\n",
        "print(\"Файл с квадратичной интерполяцией температуры - temperature_data_full_quadratic_interpolation.csv\")"
      ],
      "metadata": {
        "id": "JkMFGmAZTJ9I",
        "outputId": "a6afa18c-ffb2-4818-c980-3be15c21b45b",
        "colab": {
          "base_uri": "https://localhost:8080/"
        }
      },
      "execution_count": 48,
      "outputs": [
        {
          "output_type": "stream",
          "name": "stdout",
          "text": [
            "Файл с линейной интерполяцией температуры - temperature_data_full_linear_interpolation.csv\n",
            "Файл с квадратичной интерполяцией температуры - temperature_data_full_quadratic_interpolation.csv\n"
          ]
        }
      ]
    },
    {
      "cell_type": "code",
      "source": [
        "dew_point_data = pd.read_csv('dew_point.csv', header=2, usecols=list(range(0, 24)), index_col=0, decimal=\",\")\n",
        "dew_point_data_full = dew_point_data.apply(pd.to_numeric, errors='coerce')\n",
        "dew_point_data_full = dew_point_data_full.iloc[0:31]\n",
        "\n",
        "dew_point_data_full_linear_interpolation = apply_linear_interpolation(dew_point_data_full)\n",
        "dew_point_data_full_linear_interpolation.to_csv('dew_point_data_full_linear_interpolation.csv')\n",
        "print(\"Файл с линейной интерполяцией температуры - dew_point_data_full_linear_interpolation.csv\")\n",
        "\n",
        "dew_point_data_full_quadratic_interpolation = apply_quadratic_interpolation(dew_point_data_full)\n",
        "dew_point_data_full_quadratic_interpolation.to_csv('dew_point_data_full_quadratic_interpolation.csv')\n",
        "print(\"Файл с квадратичной интерполяцией температуры - dew_point_data_full_quadratic_interpolation.csv\")"
      ],
      "metadata": {
        "id": "I4N4LJfQUv3G",
        "outputId": "5aca4bf4-2c44-46bc-f009-27700d4abfe0",
        "colab": {
          "base_uri": "https://localhost:8080/"
        }
      },
      "execution_count": 51,
      "outputs": [
        {
          "output_type": "stream",
          "name": "stdout",
          "text": [
            "Файл с линейной интерполяцией температуры - dew_point_data_full_linear_interpolation.csv\n",
            "Файл с квадратичной интерполяцией температуры - dew_point_data_full_quadratic_interpolation.csv\n"
          ]
        }
      ]
    },
    {
      "cell_type": "code",
      "source": [
        "atmospheric_pressure_data = pd.read_csv('atmospheric_pressure.csv', header=2, usecols=list(range(0, 24)), index_col=0, decimal=\",\")\n",
        "atmospheric_pressure_data_full = atmospheric_pressure_data.apply(pd.to_numeric, errors='coerce')\n",
        "\n",
        "atmospheric_pressure_data_full_linear_interpolation = apply_linear_interpolation(atmospheric_pressure_data_full)\n",
        "atmospheric_pressure_data_full_linear_interpolation.to_csv('atmospheric_pressure_data_full_linear_interpolation.csv')\n",
        "print(\"Файл с линейной интерполяцией температуры - atmospheric_pressure_data_full_linear_interpolation.csv\")\n",
        "\n",
        "atmospheric_pressure_data_full_quadratic_interpolation = apply_quadratic_interpolation(atmospheric_pressure_data)\n",
        "atmospheric_pressure_data_full_quadratic_interpolation.to_csv('atmospheric_pressure_data_full_quadratic_interpolation.csv')\n",
        "print(\"Файл с квадратичной интерполяцией температуры - atmospheric_pressure_data_full_quadratic_interpolation.csv\")"
      ],
      "metadata": {
        "id": "bEd3_OvmUwue",
        "outputId": "5355c724-f8e2-4643-d1db-fb6e8e25f54d",
        "colab": {
          "base_uri": "https://localhost:8080/"
        }
      },
      "execution_count": 52,
      "outputs": [
        {
          "output_type": "stream",
          "name": "stdout",
          "text": [
            "Файл с линейной интерполяцией температуры - atmospheric_pressure_data_full_linear_interpolation.csv\n",
            "Файл с квадратичной интерполяцией температуры - atmospheric_pressure_data_full_quadratic_interpolation.csv\n"
          ]
        }
      ]
    }
  ]
}