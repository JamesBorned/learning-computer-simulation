{
  "nbformat": 4,
  "nbformat_minor": 0,
  "metadata": {
    "colab": {
      "provenance": [],
      "authorship_tag": "ABX9TyMcHATRaaMKTG+brLkfNtNZ"
    },
    "kernelspec": {
      "name": "python3",
      "display_name": "Python 3"
    },
    "language_info": {
      "name": "python"
    }
  },
  "cells": [
    {
      "cell_type": "markdown",
      "source": [
        "#Линейный тренд"
      ],
      "metadata": {
        "id": "aczvyXqyc4bZ"
      }
    },
    {
      "cell_type": "markdown",
      "source": [
        "Задача:\n",
        "\n",
        "1. Рассчитать основные статистические оценки.\n",
        "2. Построить график линии тренда (линейная аппроксимация) для каждой станции.\n",
        "3. Проанализировать и сравнить результаты, полученные для разных участков Балтийского моря.\n"
      ],
      "metadata": {
        "id": "ApTMQp_tddtx"
      }
    },
    {
      "cell_type": "code",
      "source": [
        "import pandas as pd\n",
        "import matplotlib.pyplot as plt\n",
        "import numpy as np"
      ],
      "metadata": {
        "id": "VPd6F1jOfHVu"
      },
      "execution_count": 1,
      "outputs": []
    },
    {
      "cell_type": "code",
      "source": [
        "# Загрузка данных из CSV-файла\n",
        "df = pd.read_csv(\"Baltic Sea 1991-2000.csv\", sep=\";\", header=0)"
      ],
      "metadata": {
        "id": "P5X9PgdefOWN"
      },
      "execution_count": null,
      "outputs": []
    },
    {
      "cell_type": "code",
      "source": [
        "# Определение количества дней\n",
        "n_days = len(df)"
      ],
      "metadata": {
        "id": "9grhOMEXfRj3"
      },
      "execution_count": null,
      "outputs": []
    },
    {
      "cell_type": "code",
      "source": [
        "# Создание массива с номерами дней, где сумма всех номеров равна 0\n",
        "days = np.arange(-(n_days // 2), (n_days // 2) + 1) if n_days % 2 != 0 else np.arange(-(n_days // 2), (n_days // 2))\n",
        "summa = np.add.reduce(days**2, dtype=np.int64)"
      ],
      "metadata": {
        "id": "luIERNSVfVsL"
      },
      "execution_count": null,
      "outputs": []
    },
    {
      "cell_type": "code",
      "source": [
        "# Добавление нового столбца в DataFrame\n",
        "df['Day'] = days"
      ],
      "metadata": {
        "id": "0oFPvZ1MfYcM"
      },
      "execution_count": null,
      "outputs": []
    },
    {
      "cell_type": "code",
      "source": [
        "# Расчет основных статистических оценок\n",
        "df_stats = df.drop(columns=['Day']).describe()\n",
        "print(df_stats)"
      ],
      "metadata": {
        "id": "NnQd2C5Efbr3"
      },
      "execution_count": null,
      "outputs": []
    },
    {
      "cell_type": "code",
      "source": [
        "strings = np.arange(len(df))"
      ],
      "metadata": {
        "id": "LUMdyXJrfegV"
      },
      "execution_count": null,
      "outputs": []
    },
    {
      "cell_type": "code",
      "execution_count": null,
      "metadata": {
        "id": "910F0E5OcMdz"
      },
      "outputs": [],
      "source": [
        "# Построение линии тренда для каждой станции\n",
        "stations = ['Near Yantarnii', 'Near SPB', 'Near Finland']\n",
        "for station in stations:\n",
        "    # Используем новый столбец 'Day' для оси x\n",
        "    x = df['Day'].values\n",
        "    y = df[station].values\n",
        "\n",
        "    # Вычисление коэффициентов линейной регрессии\n",
        "    a0 = np.sum(y) / len(df)\n",
        "    a1 = np.sum(x * y) / summa\n",
        "\n",
        "    # Построение линии тренда\n",
        "    plt.figure(figsize=(10, 6))\n",
        "    plt.plot(strings, y, label='Средняя температура')\n",
        "    plt.plot(strings, a1 * x + a0, label='Линия тренда', color='orange')\n",
        "    plt.title(f'Температура в районе {station}')\n",
        "    plt.xlabel('День')\n",
        "    plt.ylabel('Средняя температура')\n",
        "    plt.legend()\n",
        "    plt.show()\n",
        "\n",
        "    # Вывод уравнения линии тренда\n",
        "    print(f'Уравнение линии тренда для {station}:')\n",
        "    print(f'{a1:.5f}x + {a0:.5f}')\n",
        "\n",
        "    # Анализ тенденций\n",
        "    if a1 > 0:\n",
        "        print(f'Наблюдается положительная тенденция в районе {station}, температура повышается.')\n",
        "    elif a1 < 0:\n",
        "        print(f'Наблюдается отрицательная тенденция в районе {station}, температура понижается.')\n",
        "    else:\n",
        "        print(f'В районе {station} отсутствует выраженная тенденция, температура стабильна.')\n",
        "\n",
        "    print('-' * 30)\n"
      ]
    }
  ]
}