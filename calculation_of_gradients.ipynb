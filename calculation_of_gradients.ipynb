{
  "nbformat": 4,
  "nbformat_minor": 0,
  "metadata": {
    "colab": {
      "provenance": []
    },
    "kernelspec": {
      "name": "python3",
      "display_name": "Python 3"
    },
    "language_info": {
      "name": "python"
    }
  },
  "cells": [
    {
      "cell_type": "markdown",
      "source": [
        "#Расчёт градиентов"
      ],
      "metadata": {
        "id": "ycbRLZsDurov"
      }
    },
    {
      "cell_type": "markdown",
      "source": [
        "Задача:\n",
        "1. В файле с данными гидрологических зондирований рассчитать значение производных для температуры воды (столбец Temperature), как функции от глубины (столбец Depth).\n",
        "\n",
        "Для каждой точки измерения (столбец Station) имеем функцию T=T(h), распределение температуры по глубине.\n",
        "\n",
        "2. Рассчитать производную 3 способами: разностной аппроксимацией вперед, назад и центральной.\n",
        "3. Для каждой станции определить глубину, на которой начинается слой скачка (термоклин) и толщину этого слоя.\n",
        "\n",
        "Выходные данные — таблица со столбцами: \"N станции\", \"Глубина начала слоя термолина\", \"Толщина слоя термоклина\".\n",
        "Например, 18001;27.2;18.73"
      ],
      "metadata": {
        "id": "rgpwuEwBk0j2"
      }
    },
    {
      "cell_type": "code",
      "source": [
        "import pandas as pd\n",
        "import numpy as np\n",
        "import matplotlib.pyplot as plt"
      ],
      "metadata": {
        "id": "k2XaaLGEN3HB"
      },
      "execution_count": 3,
      "outputs": []
    },
    {
      "cell_type": "code",
      "source": [
        "# представление данных типа float (8 знаков после запятой)\n",
        "pd.set_option('display.float_format', lambda x: '%.8f' % x)"
      ],
      "metadata": {
        "id": "8-7qO2UDN7y1"
      },
      "execution_count": 4,
      "outputs": []
    },
    {
      "cell_type": "code",
      "source": [
        "data = pd.read_csv('hydrological_sounding_data.csv', sep=';', header=0)"
      ],
      "metadata": {
        "id": "mHrtdIt0SOaY"
      },
      "execution_count": 5,
      "outputs": []
    },
    {
      "cell_type": "code",
      "source": [
        "data = data.sort_values([\"Station\", \"Depth [m]\"])\n",
        "data = data[data['Depth [m]'] > 2]"
      ],
      "metadata": {
        "id": "cqmV6-8pST9L"
      },
      "execution_count": 6,
      "outputs": []
    },
    {
      "cell_type": "code",
      "source": [
        "stations = data['Station'].unique()"
      ],
      "metadata": {
        "id": "A_-1FU30W-KY"
      },
      "execution_count": 7,
      "outputs": []
    },
    {
      "cell_type": "code",
      "source": [
        "# функция нахождения центральной, правой, левой производных\n",
        "def get_derivatives(station_data):\n",
        "  y_i_0 = station_data['Temperature [degrees_C]'].shift(-1)\n",
        "  y_i_1 = station_data['Temperature [degrees_C]']\n",
        "  y_i_2 = station_data['Temperature [degrees_C]'].shift(1)\n",
        "  x_i_0 = station_data[\"Depth [m]\"].shift(-1)\n",
        "  x_i_1 = station_data[\"Depth [m]\"]\n",
        "  x_i_2 = station_data[\"Depth [m]\"].shift(1)\n",
        "\n",
        "  derivative_forward = (y_i_0 - y_i_1)/(x_i_0 - x_i_1)\n",
        "  derivative_backward = (y_i_1 - y_i_2)/(x_i_1 - x_i_2)\n",
        "  derivative_central = (y_i_0 - y_i_2)/(x_i_0 - x_i_2)\n",
        "\n",
        "  return (derivative_forward, derivative_backward, derivative_central)"
      ],
      "metadata": {
        "id": "12d3RjxHXecy"
      },
      "execution_count": 17,
      "outputs": []
    },
    {
      "cell_type": "code",
      "source": [
        "data[\"derivative_forward\"] = np.nan\n",
        "data[\"derivative_backward\"] = np.nan\n",
        "data[\"derivative_central\"] = np.nan"
      ],
      "metadata": {
        "id": "uZ50TxQMXQ_Y"
      },
      "execution_count": 13,
      "outputs": []
    },
    {
      "cell_type": "code",
      "source": [
        "result_table = []"
      ],
      "metadata": {
        "id": "Y2uT5oc7pdmp"
      },
      "execution_count": 14,
      "outputs": []
    },
    {
      "cell_type": "code",
      "source": [
        "for station in stations:\n",
        "    station_data = data[data['Station'] == station].copy()\n",
        "\n",
        "    data.loc[data['Station'] == station, \"Temperature [degrees_C]\"] = station_data[\"Temperature [degrees_C]\"]\n",
        "\n",
        "    if station_data['Depth [m]'].max() < 75:\n",
        "        station_data = station_data[station_data['Depth [m]'] < 40]\n",
        "    elif station_data['Depth [m]'].max() < 110:\n",
        "        station_data = station_data[station_data['Depth [m]'] < 60]\n",
        "\n",
        "    max_depth = station_data['Depth [m]'].max()\n",
        "    depths = station_data['Depth [m]'].values\n",
        "    temperatures = station_data['Temperature [degrees_C]'].values\n",
        "\n",
        "    # расчёт производных\n",
        "    derivative_forward, derivative_backward, derivative_central = get_derivatives(station_data)\n",
        "    station_data[\"derivative_forward\"] = derivative_forward\n",
        "    station_data[\"derivative_backward\"] = derivative_backward\n",
        "    station_data[\"derivative_central\"] = derivative_central\n",
        "\n",
        "    # сохранение производных в общий data frame\n",
        "    data.loc[data['Station'] == station, \"derivative_forward\"] = station_data[\"derivative_forward\"]\n",
        "    data.loc[data['Station'] == station, \"derivative_backward\"] = station_data[\"derivative_backward\"]\n",
        "    data.loc[data['Station'] == station, \"derivative_central\"] = station_data[\"derivative_central\"]\n",
        "\n",
        "    threshold = 0.55 # порог для модуля производной\n",
        "\n",
        "    if station > 18105:\n",
        "        threshold = 0.08\n",
        "    else:\n",
        "        threshold = 0.55\n",
        "\n",
        "    indices = abs(station_data[\"derivative_central\"].values) > threshold\n",
        "\n",
        "    if indices.any():\n",
        "        start_depth = station_data[\"Depth [m]\"][indices].iloc[0] # начало скачка\n",
        "        end_depth = station_data[\"Depth [m]\"][indices].iloc[-1]\n",
        "\n",
        "        thickness = end_depth - start_depth # толщина термоклина\n",
        "\n",
        "        result_table.append(f\"{station};{start_depth:.2f};{thickness:.2f}\")"
      ],
      "metadata": {
        "colab": {
          "base_uri": "https://localhost:8080/"
        },
        "id": "MBc-Ol-cfeuN",
        "outputId": "dfb78258-a253-43c4-86ca-24d4719011a1"
      },
      "execution_count": 18,
      "outputs": [
        {
          "output_type": "stream",
          "name": "stderr",
          "text": [
            "<ipython-input-18-c9784a22091f>:17: SettingWithCopyWarning: \n",
            "A value is trying to be set on a copy of a slice from a DataFrame.\n",
            "Try using .loc[row_indexer,col_indexer] = value instead\n",
            "\n",
            "See the caveats in the documentation: https://pandas.pydata.org/pandas-docs/stable/user_guide/indexing.html#returning-a-view-versus-a-copy\n",
            "  station_data[\"derivative_forward\"] = derivative_forward\n",
            "<ipython-input-18-c9784a22091f>:18: SettingWithCopyWarning: \n",
            "A value is trying to be set on a copy of a slice from a DataFrame.\n",
            "Try using .loc[row_indexer,col_indexer] = value instead\n",
            "\n",
            "See the caveats in the documentation: https://pandas.pydata.org/pandas-docs/stable/user_guide/indexing.html#returning-a-view-versus-a-copy\n",
            "  station_data[\"derivative_backward\"] = derivative_backward\n",
            "<ipython-input-18-c9784a22091f>:19: SettingWithCopyWarning: \n",
            "A value is trying to be set on a copy of a slice from a DataFrame.\n",
            "Try using .loc[row_indexer,col_indexer] = value instead\n",
            "\n",
            "See the caveats in the documentation: https://pandas.pydata.org/pandas-docs/stable/user_guide/indexing.html#returning-a-view-versus-a-copy\n",
            "  station_data[\"derivative_central\"] = derivative_central\n"
          ]
        }
      ]
    },
    {
      "cell_type": "code",
      "source": [
        "results_table = pd.DataFrame([r.split(';') for r in result_table], columns=['Станция', 'Глубина термоклина (м)', 'Толщина термоклина (м)'])\n",
        "data_copy = data.drop(columns=['Cruise', 'Date', 'Conductivity', 'Latitude [degrees_north]',  'Longitude [degrees_east]',   'Pressure', 'Bot. Depth [m]'])\n",
        "\n",
        "print(results_table.to_string(index=False))"
      ],
      "metadata": {
        "colab": {
          "base_uri": "https://localhost:8080/"
        },
        "id": "FCSEibmaptOH",
        "outputId": "96eeba63-1f8c-419c-b73b-cb4c3da6c3f3"
      },
      "execution_count": 19,
      "outputs": [
        {
          "output_type": "stream",
          "name": "stdout",
          "text": [
            "Станция Глубина термоклина (м) Толщина термоклина (м)\n",
            "  18001                   6.12                  26.82\n",
            "  18002                   4.34                  31.64\n",
            "  18003                   5.29                  32.86\n",
            "  18004                   6.32                  31.22\n",
            "  18005                   6.33                  24.67\n",
            "  18006                   7.20                  27.39\n",
            "  18007                   5.88                  26.21\n",
            "  18008                   7.20                  24.82\n",
            "  18009                   5.72                  21.10\n",
            "  18010                   5.89                  21.41\n",
            "  18011                   7.64                  49.93\n",
            "  18012                   8.40                  34.19\n",
            "  18013                   7.75                  45.94\n",
            "  18014                   8.06                  19.59\n",
            "  18015                   5.77                  21.12\n",
            "  18016                   7.16                  45.84\n",
            "  18017                   8.37                  18.59\n",
            "  18018                   7.89                  19.92\n",
            "  18019                   8.64                  19.09\n",
            "  18020                   8.11                  20.54\n",
            "  18021                   7.26                  48.27\n",
            "  18022                   6.65                  21.32\n",
            "  18023                   4.21                  21.05\n",
            "  18024                   4.12                  55.38\n",
            "  18025                   4.64                  21.33\n",
            "  18026                   5.67                  47.77\n",
            "  18027                   3.52                   6.87\n",
            "  18028                   6.17                   6.21\n",
            "  18029                   4.38                  13.12\n",
            "  18030                   4.94                  21.63\n",
            "  18031                   5.38                  24.41\n",
            "  18032                   9.03                  22.23\n",
            "  18033                   8.24                  30.43\n",
            "  18034                   8.20                  23.82\n",
            "  18035                   8.35                  31.12\n",
            "  18036                   7.12                  25.15\n",
            "  18037                   5.31                  31.60\n",
            "  18038                   5.94                  20.44\n",
            "  18039                   6.73                  38.91\n",
            "  18040                   5.83                  16.70\n",
            "  18041                   8.20                  18.55\n",
            "  18042                   4.91                  19.28\n",
            "  18043                   5.87                  18.34\n",
            "  18044                   9.06                  15.96\n",
            "  18045                   5.46                  19.88\n",
            "  18046                   4.96                  20.85\n",
            "  18047                   4.63                  20.23\n",
            "  18048                   4.74                  19.80\n",
            "  18049                   8.47                  16.70\n",
            "  18050                   7.95                  19.04\n",
            "  18051                   4.74                  20.30\n",
            "  18052                   4.96                  27.76\n",
            "  18053                   5.22                  18.95\n",
            "  18054                   3.97                  21.81\n",
            "  18055                   4.77                  19.63\n",
            "  18056                   4.40                  19.51\n",
            "  18057                   5.97                  21.13\n",
            "  18058                   3.94                  33.43\n",
            "  18059                   5.55                  20.47\n",
            "  18060                  11.35                  45.85\n",
            "  18061                  10.01                  16.93\n",
            "  18062                   7.59                  17.00\n",
            "  18063                   8.04                  16.55\n",
            "  18064                   6.94                  17.94\n",
            "  18065                   9.76                  16.00\n",
            "  18066                   7.62                  25.26\n",
            "  18067                   6.17                  15.13\n",
            "  18068                   5.68                  17.27\n",
            "  18069                   6.45                  15.89\n",
            "  18070                   5.60                  16.86\n",
            "  18071                   7.79                  14.56\n",
            "  18072                   2.85                  32.18\n",
            "  18073                   2.24                  22.68\n",
            "  18074                   2.18                  27.23\n",
            "  18075                   3.73                  22.34\n",
            "  18076                   2.78                  25.87\n",
            "  18077                   2.79                  27.53\n",
            "  18078                   3.89                  25.43\n",
            "  18079                   2.32                  30.57\n",
            "  18080                   7.06                  19.85\n",
            "  18081                   2.62                  28.10\n",
            "  18082                   2.32                  23.63\n",
            "  18083                   2.68                  21.12\n",
            "  18084                   3.07                  18.45\n",
            "  18085                   2.19                  17.10\n",
            "  18086                   2.25                  10.70\n",
            "  18087                   2.27                  13.06\n",
            "  18088                   2.24                   8.65\n",
            "  18089                   2.01                  35.63\n",
            "  18090                   5.03                  51.23\n",
            "  18091                  12.86                  43.24\n",
            "  18092                  14.86                  26.18\n",
            "  18093                  14.84                  45.14\n",
            "  18094                   6.28                  40.24\n",
            "  18095                   5.79                  35.68\n",
            "  18096                   5.67                  27.10\n",
            "  18097                   4.99                  24.69\n",
            "  18098                  16.76                  12.77\n",
            "  18099                  16.65                  16.96\n",
            "  18100                  16.64                  16.90\n",
            "  18101                  18.08                  19.52\n",
            "  18102                  18.24                  19.39\n",
            "  18103                  19.61                  14.70\n",
            "  18104                  18.33                  16.88\n",
            "  18105                  13.53                  21.05\n",
            "  18106                   2.31                  25.12\n",
            "  18107                   4.27                  18.10\n",
            "  18108                   5.83                  11.15\n"
          ]
        }
      ]
    }
  ]
}